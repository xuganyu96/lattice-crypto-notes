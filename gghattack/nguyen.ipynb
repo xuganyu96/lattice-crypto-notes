{
 "cells": [
  {
   "cell_type": "markdown",
   "metadata": {},
   "source": [
    "# Key recovery attack on GGH-style signature scheme"
   ]
  },
  {
   "cell_type": "code",
   "execution_count": 1,
   "metadata": {},
   "outputs": [
    {
     "name": "stdout",
     "output_type": "stream",
     "text": [
      "ortho-defect of sk is 2.1984871040703586\n",
      "ortho-defect of pk is 754549602373544.9\n"
     ]
    }
   ],
   "source": [
    "from ggh.signature import keygen, sign, verify\n",
    "from ggh.arithmetic import ortho_defect\n",
    "\n",
    "n = 5\n",
    "pk, sk, radius = keygen(n)\n",
    "\n",
    "print(f\"ortho-defect of sk is {ortho_defect(sk)}\")\n",
    "print(f\"ortho-defect of pk is {ortho_defect(pk)}\")"
   ]
  }
 ],
 "metadata": {
  "kernelspec": {
   "display_name": ".venv",
   "language": "python",
   "name": "python3"
  },
  "language_info": {
   "codemirror_mode": {
    "name": "ipython",
    "version": 3
   },
   "file_extension": ".py",
   "mimetype": "text/x-python",
   "name": "python",
   "nbconvert_exporter": "python",
   "pygments_lexer": "ipython3",
   "version": "3.10.4"
  }
 },
 "nbformat": 4,
 "nbformat_minor": 2
}
